{
 "cells": [
  {
   "cell_type": "markdown",
   "metadata": {},
   "source": [
    "# Notably Inaccessible – Data Driven Understanding of Data Science Notebook (In)Accessibility\n",
    "\n",
    "![Paul G Allen School of Computer Science and Engineering Logo](uw-cse.png)\n",
    "\n",
    "By: _Venkatesh Potluri, Sudheesh Singanamalla, Nussara Tieanklin, Jennifer Mankoff_\n",
    "\n",
    "This website contains the Jupyter notebooks exported into HTML showing the code and the the intermediate datasets from the pipeline executions needed to reproduce every single figure in the research paper. More details about the pipeline and the data are available in the open source [Github Repository](https://github.com/make4all/notebooka11y).\n",
    "\n",
    "|Research Paper |Dataset | Artifact (Github Repository) |\n",
    "|:---|:---|:----|\n",
    "|[![Paper DOI](https://img.shields.io/badge/Research%20Paper%20DOI-10.1145/3597638.3608417-blue)](https://doi.org/10.1145/3597638.3608417)|[![Zenodo DOI](https://zenodo.org/badge/DOI/10.5281/zenodo.8185050.svg)](https://doi.org/10.5281/zenodo.8185050)| [![Github Repository](https://img.shields.io/badge/Github%20Repository-make4all/notebooka11y-blue.svg?logo=github&style=flat)](https://github.com/make4all/notebooka11y) |\n",
    "\n",
    "## Attribution\n",
    "\n",
    "If you use the datasets provided with this work, consider citing it as below:\n",
    "\n",
    "### ACM Reference Format (End Note)\n",
    "\n",
    "Venkatesh Potluri, Sudheesh Singanamalla, Nussara Tieanklin, Jennifer Mankoff. 2023. Notably Inaccessible -- Data Driven Understanding of Data Science Notebook (In)Accessibility. In the 25th International ACM SIGACCESS Conference on Computers and Accessibility (ASSETS '23). October 22-25, 2023, New York, NY, USA. ACM, New York, NY, USA, 18 pages. https://doi.org/10.1145/3597638.3608417\n",
    "\n",
    "### LaTeX\n",
    "\n",
    "<pre>\n",
    "@inproceedings{10.1145/3597638.3608417,\n",
    "    author = {Potluri, Venkatesh and Singanamalla, Sudheesh and Tieanklin, Firn and Mankoff, Jennifer},\n",
    "    title = {Notably Inaccessible – Data Driven Understanding of Data Science Notebook (In)Accessibility},\n",
    "    year = {2023},\n",
    "    isbn = {979-8-4007-0220-4/23/10},\n",
    "    publisher = {Association for Computing Machinery},\n",
    "    address = {New York, NY, USA},\n",
    "    url = {https://doi.org/10.1145/3597638.3608417},\n",
    "    booktitle = {Proceedings of the 25th International ACM SIGACCESS Conference on Computers and Accessibility},\n",
    "    location = {New York, NY, USA},\n",
    "    series = {ASSETS '23}\n",
    "}\n",
    "</pre>"
   ]
  },
  {
   "cell_type": "markdown",
   "metadata": {},
   "source": [
    "## Table of Contents\n",
    "\n",
    "- **Figure 1:** [Pipeline Description](Pipeline%20Description.ipynb)\n",
    "- **Figure 2:** [Notebook Characteristics](Notebook%20Characteristics.ipynb)\n",
    "  - **2(a)** relies on `data_out/processed_function_calls.csv`\n",
    "  - **2(b)** relies on `data_out/nb_processed_cell_html.csv`\n",
    "  - **2(c)** relies on `data_out/nb_processed_cell_html.csv`\n",
    "- **Figure 3:** [Image Analysis](Image%20Analysis.ipynb)\n",
    "  - **3(a)** relies on `data_out/nb_processed_cell_html.csv`\n",
    "  - **3(b)** relies on `data_out/model-results.csv`\n",
    "- **Figure 4:** [Popular Imports From Usage](Popular%20Imports%20From%20Usage.ipynb)\n",
    "  - **4** relies on `data_out/nb_processed.csv`\n",
    "- **Figure 5:** [Notebook Navigability](Notebook%20Navigability.ipynb)\n",
    "  - **5(a)** relies on `data_out/nb_first_interactive_cell.csv`\n",
    "  - **5(b)** relies on `data_out/nb_first_interactive_cell.csv`\n",
    "- **Figure 6:** [Notebook Customizability](Notebook%20Customizability.ipynb)\n",
    "  - **6(a)** relies on `data_out/a11y-aggregate-scan.csv`\n",
    "- **Figure 7:** [Accessibility Scan](Accessibility%20Scan.ipynb)\n",
    "  - **7(a):** relies on `data_out/errors-different-counts-a11y-analyze-errors-summary.csv`\n",
    "  - **7(b):** relies on `data_out/errors-different-counts-a11y-analyze-errors-summary.csv`"
   ]
  },
  {
   "cell_type": "markdown",
   "metadata": {},
   "source": [
    "## Pipeline Overview\n",
    "\n",
    "This page contains links to the various notebooks that can be run to reproduce the figures presented in the paper. The figure below shows the pipeline that gets us the necessary datasets needed to generate these figures."
   ]
  },
  {
   "cell_type": "code",
   "execution_count": 1,
   "metadata": {},
   "outputs": [],
   "source": [
    "import base64\n",
    "from IPython.display import Image, display\n",
    "import matplotlib.pyplot as plt\n",
    "\n",
    "\n",
    "def mm(graph):\n",
    "  graphbytes = graph.encode(\"ascii\")\n",
    "  base64_bytes = base64.b64encode(graphbytes)\n",
    "  base64_string = base64_bytes.decode(\"ascii\")\n",
    "  display(Image(url=\"https://mermaid.ink/img/\" + base64_string))"
   ]
  },
  {
   "cell_type": "code",
   "execution_count": 2,
   "metadata": {},
   "outputs": [
    {
     "data": {
      "text/html": [
       "<img src=\"https://mermaid.ink/img/CiAgIGdyYXBoIFRECkFbZmE6ZmEtZGF0YWJhc2UgSmV0QnJhaW5zIERhdGFzdG9yZSAxME0gRGF0YXNldF0gCiAgICAtLT58RG93bmxvYWQgbnRic19saXN0Lmpzb24sIHBpY2sgMTAwSyBub3RlYm9va3N8QgpCW2ZhOmZhLWRhdGFiYXNlIDEwMGstZGF0YXNldC5jc3ZdCiAgICAtLT58ZmV0Y2hfbm90ZWJvb2tzLnB5fCBDW2ZhOmZhLWJvb2sgRG93bmxvYWQgMTAwSyBOb3RlYm9va3NdCkMgLS0+fFN0b3JlfCBEW2ZhOmZhLWZpbGUgRGF0YSAxMDBLIE5vdGVib29rc10KRCAtLT58ZXhwb3J0X25vdGVib29rc190b19odG1sLnB5fCBFe0hUTUwgZmlsZXMgYnkgVGhlbWV9CkUgLS0+IEZbRGFyY3VsYV0KRSAtLT4gR1tIb3Jpem9uXQpFIC0tPiBIW01hdGVyaWFsIERhcmtlcl0KRSAtLT4gSVtTb2xhcml6ZWRdCkUgLS0+IEpbTGlnaHRdCkUgLS0+IEtbRGFya10KSiAtLT4gCiAgICB8cHJvY2Vzc19ub3RlYm9va19odG1sLnB5fEwobmJfcHJvY2Vzc2VkX2NlbGxfaHRtbC5jc3YpCkwgLS0+CiAgICB8Z2V0X2ZpcnN0X2ludGVyYWN0aXZlX2NlbGxzLnB5fE0obmJfZmlyc3RfaW50ZXJhY3RpdmVfY2VsbC5jc3YpCkYgLS0+TntTY2FufQpHIC0tPk4KSCAtLT5OCkkgLS0+TgpKIC0tPk4KSyAtLT5OCk4gLS0+fHBhMTF5X3NjYW5fcGFyYWxsZWwucHl8WFtwYTExeS1yZXN1bHRzXQpYIC0tPnxmZXRjaF9hMTF5X3Jlc3BvbnNlcy5weXxPe1Jlc3VsdHN9Ck8gLS0+UChhMTF5LWFnZ3JlZ2F0ZS1zY2FuLmNzdikKTyAtLT5RKGExMXktZGV0YWlsZWQtcmVzdWx0LmNzdikKUSAtLT58Z2VuZXJhdGVfYWNjZXNzaWJpbGl0eV9lcnJvcl9jb3VudHMucHl8UihlcnJvcnMtZGlmZmVyZW50LWNvdW50cy1hMTF5LWFuYWx5emUtZXJyb3JzLXN1bW1hcnkuY3N2KQpEIC0tPnxwcm9jZXNzX25vdGVib29rcy5weXxTW0Jhc2U2NCBJbWFnZXNdClMgLS0+fGNsYXNzaWZ5X2ltYWdlcy5weXxUKG1vZGVsLXJlc3VsdHMuY3N2KQpEIC0tPnxwcm9jZXNzX25vdGVib29rcy5weXxVKG5iX3Byb2Nlc3NlZC5jc3YpClUgLS0+fGFuYWx5emVfZnVuY3Rpb25fY2FsbHMucHl8Vihwcm9jZXNzZWRfZnVuY3Rpb25fY2FsbHMuY3N2KQogICA=\"/>"
      ],
      "text/plain": [
       "<IPython.core.display.Image object>"
      ]
     },
     "metadata": {},
     "output_type": "display_data"
    }
   ],
   "source": [
    "mm(\"\"\"\n",
    "   graph TD\n",
    "A[fa:fa-database JetBrains Datastore 10M Dataset] \n",
    "    -->|Download ntbs_list.json, pick 100K notebooks|B\n",
    "B[fa:fa-database 100k-dataset.csv]\n",
    "    -->|fetch_notebooks.py| C[fa:fa-book Download 100K Notebooks]\n",
    "C -->|Store| D[fa:fa-file Data 100K Notebooks]\n",
    "D -->|export_notebooks_to_html.py| E{HTML files by Theme}\n",
    "E --> F[Darcula]\n",
    "E --> G[Horizon]\n",
    "E --> H[Material Darker]\n",
    "E --> I[Solarized]\n",
    "E --> J[Light]\n",
    "E --> K[Dark]\n",
    "J --> \n",
    "    |process_notebook_html.py|L(nb_processed_cell_html.csv)\n",
    "L -->\n",
    "    |get_first_interactive_cells.py|M(nb_first_interactive_cell.csv)\n",
    "F -->N{Scan}\n",
    "G -->N\n",
    "H -->N\n",
    "I -->N\n",
    "J -->N\n",
    "K -->N\n",
    "N -->|pa11y_scan_parallel.py|X[pa11y-results]\n",
    "X -->|fetch_a11y_responses.py|O{Results}\n",
    "O -->P(a11y-aggregate-scan.csv)\n",
    "O -->Q(a11y-detailed-result.csv)\n",
    "Q -->|generate_accessibility_error_counts.py|R(errors-different-counts-a11y-analyze-errors-summary.csv)\n",
    "D -->|process_notebooks.py|S[Base64 Images]\n",
    "S -->|classify_images.py|T(model-results.csv)\n",
    "D -->|process_notebooks.py|U(nb_processed.csv)\n",
    "U -->|analyze_function_calls.py|V(processed_function_calls.csv)\n",
    "   \"\"\"\n",
    "   )"
   ]
  },
  {
   "cell_type": "markdown",
   "metadata": {},
   "source": [
    "The figure above shows a mermaid flowchart diagram indicating the various stages in the pipeline and the scripts needed at each stage. The flowchart is interpreted top-down. An accessible and interactive version of the diagram can be found in the README file on GitHub along with the documentation of the pipeline and its description."
   ]
  }
 ],
 "metadata": {
  "kernelspec": {
   "display_name": "Python 3 (ipykernel)",
   "language": "python",
   "name": "python3"
  },
  "language_info": {
   "codemirror_mode": {
    "name": "ipython",
    "version": 3
   },
   "file_extension": ".py",
   "mimetype": "text/x-python",
   "name": "python",
   "nbconvert_exporter": "python",
   "pygments_lexer": "ipython3",
   "version": "3.10.6"
  }
 },
 "nbformat": 4,
 "nbformat_minor": 2
}
