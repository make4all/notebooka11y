{
 "cells": [
  {
   "cell_type": "markdown",
   "id": "938aac11",
   "metadata": {},
   "source": [
    "# Accessibility Scan\n",
    "\n",
    "This Jupyter notebook processes the necessary data file of `data_out/errors-different-counts-a11y-analyze-errors-summary.csv` generated from the various processing scripts in various phases of the pipeline. The result of this notebook when executed will result in the generation of `Figure 7` as described in the accompanying paper.\n",
    "\n",
    "This file generates 2 figures;\n",
    " - 7(a) Heatmap respresents errors reported by aXe engine\n",
    " - 7(b) Heatmap respresents errors reported by HTMLCS engine\n",
    " \n",
    "\n",
    "## Required Libraries:\n",
    "- `matplotlib`\n",
    "- `numpy`\n",
    "- `pandas`\n",
    "- `seaborn`"
   ]
  },
  {
   "cell_type": "code",
   "execution_count": 1,
   "id": "013b5162",
   "metadata": {},
   "outputs": [],
   "source": [
    "import matplotlib\n",
    "import matplotlib.pyplot as plt\n",
    "import numpy\n",
    "import pandas\n",
    "import seaborn as sns"
   ]
  },
  {
   "cell_type": "code",
   "execution_count": 2,
   "id": "3d56a401",
   "metadata": {},
   "outputs": [],
   "source": [
    "different_errors = pandas.read_csv('data_out/errors-different-counts-a11y-analyze-errors-summary.csv')"
   ]
  },
  {
   "cell_type": "code",
   "execution_count": 24,
   "id": "69bc0199",
   "metadata": {},
   "outputs": [],
   "source": [
    "error_grid = different_errors[different_errors['Type'] == 'error'].pivot(index='Theme', columns=['Runner', 'DetailCode'], values='count')\n",
    "# error_grid['image-alt-relative'] = df.apply"
   ]
  },
  {
   "cell_type": "markdown",
   "id": "f9a7c44b",
   "metadata": {},
   "source": [
    "## Figure 7(a): Heatmap of Errors Types from aXe Engine"
   ]
  },
  {
   "cell_type": "code",
   "execution_count": 21,
   "id": "2fbf4486",
   "metadata": {},
   "outputs": [],
   "source": [
    "axe_errors = error_grid['axe']"
   ]
  },
  {
   "cell_type": "code",
   "execution_count": 22,
   "id": "f2f2726b",
   "metadata": {},
   "outputs": [
    {
     "name": "stdout",
     "output_type": "stream",
     "text": [
      "{'color-contrast': 'AXE-E1', 'image-alt': 'AXE-E2', 'link-in-text-block': 'AXE-E3', 'link-name': 'AXE-E4', 'bypass': 'AXE-E5', 'audio-caption': 'AXE-E6', 'aria-hidden-focus': 'AXE-E7', 'aria-input-field-name': 'AXE-E8', 'aria-required-parent': 'AXE-E9', 'region': 'AXE-E10'}\n"
     ]
    },
    {
     "name": "stderr",
     "output_type": "stream",
     "text": [
      "/var/folders/dc/xdk576qx24scdpc33nxjckjc0000gn/T/ipykernel_31417/3317756783.py:10: SettingWithCopyWarning: \n",
      "A value is trying to be set on a copy of a slice from a DataFrame\n",
      "\n",
      "See the caveats in the documentation: https://pandas.pydata.org/pandas-docs/stable/user_guide/indexing.html#returning-a-view-versus-a-copy\n",
      "  axe_errors.rename(columns=reassignment, inplace=True)\n"
     ]
    },
    {
     "data": {
      "text/html": [
       "<div>\n",
       "<style scoped>\n",
       "    .dataframe tbody tr th:only-of-type {\n",
       "        vertical-align: middle;\n",
       "    }\n",
       "\n",
       "    .dataframe tbody tr th {\n",
       "        vertical-align: top;\n",
       "    }\n",
       "\n",
       "    .dataframe thead th {\n",
       "        text-align: right;\n",
       "    }\n",
       "</style>\n",
       "<table border=\"1\" class=\"dataframe\">\n",
       "  <thead>\n",
       "    <tr style=\"text-align: right;\">\n",
       "      <th>DetailCode</th>\n",
       "      <th>AXE-E1</th>\n",
       "      <th>AXE-E2</th>\n",
       "      <th>AXE-E3</th>\n",
       "      <th>AXE-E4</th>\n",
       "      <th>AXE-E5</th>\n",
       "      <th>AXE-E6</th>\n",
       "      <th>AXE-E7</th>\n",
       "      <th>AXE-E8</th>\n",
       "      <th>AXE-E9</th>\n",
       "      <th>AXE-E10</th>\n",
       "    </tr>\n",
       "    <tr>\n",
       "      <th>Theme</th>\n",
       "      <th></th>\n",
       "      <th></th>\n",
       "      <th></th>\n",
       "      <th></th>\n",
       "      <th></th>\n",
       "      <th></th>\n",
       "      <th></th>\n",
       "      <th></th>\n",
       "      <th></th>\n",
       "      <th></th>\n",
       "    </tr>\n",
       "  </thead>\n",
       "  <tbody>\n",
       "    <tr>\n",
       "      <th>darcula</th>\n",
       "      <td>14925118</td>\n",
       "      <td>297021</td>\n",
       "      <td>79246</td>\n",
       "      <td>4721</td>\n",
       "      <td>2277</td>\n",
       "      <td>633</td>\n",
       "      <td>77</td>\n",
       "      <td>47</td>\n",
       "      <td>38</td>\n",
       "      <td>5</td>\n",
       "    </tr>\n",
       "    <tr>\n",
       "      <th>dark</th>\n",
       "      <td>3420965</td>\n",
       "      <td>297021</td>\n",
       "      <td>79246</td>\n",
       "      <td>4720</td>\n",
       "      <td>2278</td>\n",
       "      <td>635</td>\n",
       "      <td>77</td>\n",
       "      <td>46</td>\n",
       "      <td>28</td>\n",
       "      <td>5</td>\n",
       "    </tr>\n",
       "    <tr>\n",
       "      <th>horizon</th>\n",
       "      <td>2561526</td>\n",
       "      <td>297021</td>\n",
       "      <td>79246</td>\n",
       "      <td>4722</td>\n",
       "      <td>2278</td>\n",
       "      <td>633</td>\n",
       "      <td>77</td>\n",
       "      <td>47</td>\n",
       "      <td>38</td>\n",
       "      <td>5</td>\n",
       "    </tr>\n",
       "    <tr>\n",
       "      <th>light</th>\n",
       "      <td>9779805</td>\n",
       "      <td>296992</td>\n",
       "      <td>1103</td>\n",
       "      <td>4719</td>\n",
       "      <td>2276</td>\n",
       "      <td>634</td>\n",
       "      <td>81</td>\n",
       "      <td>46</td>\n",
       "      <td>10</td>\n",
       "      <td>5</td>\n",
       "    </tr>\n",
       "    <tr>\n",
       "      <th>material-darker</th>\n",
       "      <td>5165510</td>\n",
       "      <td>297021</td>\n",
       "      <td>79246</td>\n",
       "      <td>4720</td>\n",
       "      <td>2279</td>\n",
       "      <td>635</td>\n",
       "      <td>77</td>\n",
       "      <td>47</td>\n",
       "      <td>28</td>\n",
       "      <td>5</td>\n",
       "    </tr>\n",
       "    <tr>\n",
       "      <th>solarized</th>\n",
       "      <td>7428277</td>\n",
       "      <td>297021</td>\n",
       "      <td>79557</td>\n",
       "      <td>4718</td>\n",
       "      <td>2276</td>\n",
       "      <td>633</td>\n",
       "      <td>77</td>\n",
       "      <td>47</td>\n",
       "      <td>28</td>\n",
       "      <td>5</td>\n",
       "    </tr>\n",
       "  </tbody>\n",
       "</table>\n",
       "</div>"
      ],
      "text/plain": [
       "DetailCode         AXE-E1  AXE-E2  AXE-E3  AXE-E4  AXE-E5  AXE-E6  AXE-E7  \\\n",
       "Theme                                                                       \n",
       "darcula          14925118  297021   79246    4721    2277     633      77   \n",
       "dark              3420965  297021   79246    4720    2278     635      77   \n",
       "horizon           2561526  297021   79246    4722    2278     633      77   \n",
       "light             9779805  296992    1103    4719    2276     634      81   \n",
       "material-darker   5165510  297021   79246    4720    2279     635      77   \n",
       "solarized         7428277  297021   79557    4718    2276     633      77   \n",
       "\n",
       "DetailCode       AXE-E8  AXE-E9  AXE-E10  \n",
       "Theme                                     \n",
       "darcula              47      38        5  \n",
       "dark                 46      28        5  \n",
       "horizon              47      38        5  \n",
       "light                46      10        5  \n",
       "material-darker      47      28        5  \n",
       "solarized            47      28        5  "
      ]
     },
     "execution_count": 22,
     "metadata": {},
     "output_type": "execute_result"
    }
   ],
   "source": [
    "axe_error_columns = axe_errors.columns\n",
    "\n",
    "reassignment = {}\n",
    "\n",
    "for i, column_name in enumerate(axe_error_columns):\n",
    "    reassignment[column_name] = f'AXE-E{i+1}'\n",
    "\n",
    "print(reassignment)\n",
    "\n",
    "axe_errors.rename(columns=reassignment, inplace=True)\n",
    "axe_errors"
   ]
  },
  {
   "cell_type": "code",
   "execution_count": 23,
   "id": "eabac8e2",
   "metadata": {},
   "outputs": [
    {
     "data": {
      "image/png": "[encoded data removed]",
      "text/plain": [
       "<Figure size 720x576 with 2 Axes>"
      ]
     },
     "metadata": {
      "needs_background": "light"
     },
     "output_type": "display_data"
    }
   ],
   "source": [
    "fig, ax = plt.subplots(nrows=1, ncols=1, figsize=(10, 8))\n",
    "matplotlib.rcParams.update({'font.size': 20})\n",
    "sns.heatmap(axe_errors, robust=True, linewidths=0.1, linecolor='black', ax=ax, vmin=0, vmax=100)\n",
    "ax.set_ylabel('Notebook Theme', fontsize=20)\n",
    "ax.set_xlabel('Errors Reported by Axe Accessibility Engine', fontsize=20)\n",
    "plt.savefig('plot_out/fig-7a-errors-axe-heatmap.pdf', bbox_inches='tight')"
   ]
  },
  {
   "cell_type": "markdown",
   "id": "2f7044ae",
   "metadata": {},
   "source": [
    "**Figure 7(a)** The heatmap of errors for aXe indicates the percentage of errors of different types. The type of errors are presented on the x axis and the themes along the y axis with each cell ranging between 0 and 100.0. The corresponding legend of the color bar is to the right side of the figure.\n",
    "\n",
    "---------"
   ]
  },
  {
   "cell_type": "markdown",
   "id": "50595098",
   "metadata": {},
   "source": [
    "## Figure 7(b): Heatmap of Errors Types from HTMLCS Engine"
   ]
  },
  {
   "cell_type": "code",
   "execution_count": 15,
   "id": "92ef1b9e",
   "metadata": {},
   "outputs": [
    {
     "name": "stderr",
     "output_type": "stream",
     "text": [
      "/var/folders/dc/xdk576qx24scdpc33nxjckjc0000gn/T/ipykernel_31417/2220609700.py:12: SettingWithCopyWarning: \n",
      "A value is trying to be set on a copy of a slice from a DataFrame\n",
      "\n",
      "See the caveats in the documentation: https://pandas.pydata.org/pandas-docs/stable/user_guide/indexing.html#returning-a-view-versus-a-copy\n",
      "  htmlcs_errors.rename(columns=htmlcs_reassignment, inplace=True)\n"
     ]
    }
   ],
   "source": [
    "htmlcs_errors = error_grid['htmlcs']\n",
    "\n",
    "htmlcs_error_columns = htmlcs_errors.columns\n",
    "\n",
    "htmlcs_reassignment = {}\n",
    "\n",
    "for i, column_name in enumerate(htmlcs_error_columns):\n",
    "    htmlcs_reassignment[column_name] = f'HTMLCS-E{i+1}'\n",
    "\n",
    "# print(htmlcs_reassignment)\n",
    "\n",
    "htmlcs_errors.rename(columns=htmlcs_reassignment, inplace=True)"
   ]
  },
  {
   "cell_type": "code",
   "execution_count": 16,
   "id": "dd4555b0",
   "metadata": {},
   "outputs": [
    {
     "name": "stderr",
     "output_type": "stream",
     "text": [
      "/var/folders/dc/xdk576qx24scdpc33nxjckjc0000gn/T/ipykernel_31417/1479320237.py:4: SettingWithCopyWarning: \n",
      "A value is trying to be set on a copy of a slice from a DataFrame.\n",
      "Try using .loc[row_indexer,col_indexer] = value instead\n",
      "\n",
      "See the caveats in the documentation: https://pandas.pydata.org/pandas-docs/stable/user_guide/indexing.html#returning-a-view-versus-a-copy\n",
      "  htmlcs_errors[updated_column] = htmlcs_errors[updated_column] / normalizer * 100.0\n"
     ]
    }
   ],
   "source": [
    "columns = htmlcs_errors.columns.tolist()\n",
    "for updated_column in columns:\n",
    "    normalizer = htmlcs_errors[updated_column].max()\n",
    "    htmlcs_errors[updated_column] = htmlcs_errors[updated_column] / normalizer * 100.0\n"
   ]
  },
  {
   "cell_type": "code",
   "execution_count": 17,
   "id": "9d45bbfb",
   "metadata": {},
   "outputs": [
    {
     "data": {
      "image/png": "[encoded data removed]",
      "text/plain": [
       "<Figure size 720x576 with 2 Axes>"
      ]
     },
     "metadata": {
      "needs_background": "light"
     },
     "output_type": "display_data"
    }
   ],
   "source": [
    "fig, ax = plt.subplots(nrows=1, ncols=1, figsize=(10, 8))\n",
    "matplotlib.rcParams.update({'font.size': 20})\n",
    "sns.heatmap(htmlcs_errors, robust=True, linewidths=0.1, linecolor='black', ax=ax, vmin=0, vmax=100)\n",
    "ax.set_ylabel('Notebook Theme', fontsize=20)\n",
    "ax.set_xlabel('Errors Reported by HTMLCS Accessibility Engine', fontsize=20)\n",
    "plt.savefig('plot_out/fig-7b-errors-htmlcs-heatmap.pdf', bbox_inches='tight')"
   ]
  },
  {
   "cell_type": "markdown",
   "id": "9e98a054",
   "metadata": {},
   "source": [
    "**Figure 7(b)** is similar to 7a, but contains 9 error types instead of 10 in 7a. The key for the error codes along the x axis for both figures are presented in Table 4.\n",
    "\n",
    "------------"
   ]
  }
 ],
 "metadata": {
  "kernelspec": {
   "display_name": "Python 3 (ipykernel)",
   "language": "python",
   "name": "python3"
  },
  "language_info": {
   "codemirror_mode": {
    "name": "ipython",
    "version": 3
   },
   "file_extension": ".py",
   "mimetype": "text/x-python",
   "name": "python",
   "nbconvert_exporter": "python",
   "pygments_lexer": "ipython3",
   "version": "3.9.16"
  }
 },
 "nbformat": 4,
 "nbformat_minor": 5
}
