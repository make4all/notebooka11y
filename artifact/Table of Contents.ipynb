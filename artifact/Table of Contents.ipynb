{
 "cells": [
  {
   "cell_type": "markdown",
   "metadata": {},
   "source": [
    "# Notably Inaccessible – Data Driven Understanding of Data Science Notebook (In)Accessibility\n",
    "\n",
    "![Paul G Allen School of Computer Science and Engineering Logo](uw-cse.png)\n",
    "\n",
    "By: _Venkatesh Potluri, Sudheesh Singanamalla, Nussara Tieanklin, Jennifer Mankoff_\n",
    "\n",
    "If you use the datasets provided with this work, consider citing it as below:\n",
    "\n",
    "#### ACM Reference Format (End Note)\n",
    "\n",
    "Venkatesh Potluri, Sudheesh Singanamalla, Nussara Tieanklin, Jennifer Mankoff. 2023. Notably Inaccessible -- Data Driven Understanding of Data Science Notebook (In)Accessibility. In the 25th International ACM SIGACCESS Conference on Computers and Accessibility (ASSETS '23). October 22-25, 2023, New York, NY, USA. ACM, New York, NY, USA, 18 pages. https://doi.org/10.1145/3597638.3608417\n",
    "\n",
    "#### LaTeX\n",
    "\n",
    "<pre>\n",
    "@inproceedings{10.1145/3597638.3608417,\n",
    "    author = {Potluri, Venkatesh and Singanamalla, Sudheesh and Tieanklin, Firn and Mankoff, Jennifer},\n",
    "    title = {Notably Inaccessible – Data Driven Understanding of Data Science Notebook (In)Accessibility},\n",
    "    year = {2023},\n",
    "    isbn = {979-8-4007-0220-4/23/10},\n",
    "    publisher = {Association for Computing Machinery},\n",
    "    address = {New York, NY, USA},\n",
    "    url = {https://doi.org/10.1145/3597638.3608417},\n",
    "    booktitle = {Proceedings of the 25th International ACM SIGACCESS Conference on Computers and Accessibility},\n",
    "    location = {New York, NY, USA},\n",
    "    series = {ASSETS '23}\n",
    "}\n",
    "</pre>"
   ]
  },
  {
   "cell_type": "markdown",
   "metadata": {},
   "source": [
    "## Table of Contents\n",
    "\n",
    "- **Figure 1:** [Pipeline Description](Pipeline%20Description.ipynb)\n",
    "- **Figure 2:** [Notebook Characteristics](Notebook%20Characteristics.ipynb)\n",
    "    - **2(a)** relies on `data_out/processed_function_calls.csv`\n",
    "    - **2(b)** relies on `data_out/nb_processed_cell_html.csv`\n",
    "    - **2(c)** relies on `data_out/nb_processed_cell_html.csv`\n",
    "- **Figure 3:** [Image Analysis](Image%20Analysis.ipynb)\n",
    "    - **3(a)** relies on `data_out/texts/alt.txt`\n",
    "    - **3(b)** relies on `data_out/model-results.csv`\n",
    "- **Figure 4:** [Popular Imports From Usage](Popular%20Imports%20From%20Usage.ipynb)\n",
    "    - **4** relies on `data_out/nb_processed.csv`\n",
    "- **Figure 5:** [Notebook Navigability](Notebook%20Navigability.ipynb)\n",
    "    - **5(a)** relies on `data_out/nb_first_interactive_cell.csv`\n",
    "    - **5(b)** relies on `data_out/nb_first_interactive_cell.csv`\n",
    "- **Figure 6:** [Notebook Customizability](Notebook%20Customizability.ipynb)\n",
    "    - **6(a)** relies on `data_out/a11y-aggregate-scan.csv`\n",
    "- **Figure 7:** [Accessibility Scan](Accessibility%20Scan.ipynb)\n",
    "    - **7(a):** relies on `data_out/errors-different-counts-a11y-analyze-errors-summary.csv`\n",
    "    - **7(b):** relies on `data_out/errors-different-counts-a11y-analyze-errors-summary.csv`"
   ]
  }
 ],
 "metadata": {
  "kernelspec": {
   "display_name": "Python 3 (ipykernel)",
   "language": "python",
   "name": "python3"
  },
  "language_info": {
   "codemirror_mode": {
    "name": "ipython",
    "version": 3
   },
   "file_extension": ".py",
   "mimetype": "text/x-python",
   "name": "python",
   "nbconvert_exporter": "python",
   "pygments_lexer": "ipython3",
   "version": "3.10.6"
  }
 },
 "nbformat": 4,
 "nbformat_minor": 1
}
