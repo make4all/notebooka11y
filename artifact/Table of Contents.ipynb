{
 "cells": [
  {
   "cell_type": "markdown",
   "metadata": {},
   "source": [
    "# Notably Inaccessible – Data Driven Understanding of Data Science Notebook (In)Accessibility"
   ]
  },
  {
   "cell_type": "markdown",
   "metadata": {},
   "source": [
    "- **Figure 1:** [Pipeline Description](Pipeline%20Description.ipynb)\n",
    "- **Figure 2:** [Notebook Characteristics](Notebook%20Characteristics.ipynb)\n",
    "    - **2(a)** relies on `data_out/processed_function_calls.csv`\n",
    "    - **2(b)** relies on `data_out/nb_processed_cell_html.csv`\n",
    "    - **2(c)** relies on `data_out/nb_processed_cell_html.csv`"
   ]
  },
  {
   "cell_type": "code",
   "execution_count": null,
   "metadata": {},
   "outputs": [],
   "source": []
  }
 ],
 "metadata": {
  "kernelspec": {
   "display_name": "Python 3 (ipykernel)",
   "language": "python",
   "name": "python3"
  },
  "language_info": {
   "codemirror_mode": {
    "name": "ipython",
    "version": 3
   },
   "file_extension": ".py",
   "mimetype": "text/x-python",
   "name": "python",
   "nbconvert_exporter": "python",
   "pygments_lexer": "ipython3",
   "version": "3.10.6"
  }
 },
 "nbformat": 4,
 "nbformat_minor": 1
}
