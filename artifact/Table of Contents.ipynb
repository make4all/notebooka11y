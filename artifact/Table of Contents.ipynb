{
 "cells": [
  {
   "cell_type": "markdown",
   "metadata": {},
   "source": [
    "# Notably Inaccessible – Data Driven Understanding of Data Science Notebook (In)Accessibility"
   ]
  },
  {
   "cell_type": "markdown",
   "metadata": {},
   "source": [
    "## Table of Contents\n",
    "\n",
    "- **Figure 1:** [Pipeline Description](Pipeline%20Description.ipynb)\n",
    "- **Figure 2:** [Notebook Characteristics](Notebook%20Characteristics.ipynb)\n",
    "    - **2(a)** relies on `data_out/processed_function_calls.csv`\n",
    "    - **2(b)** relies on `data_out/nb_processed_cell_html.csv`\n",
    "    - **2(c)** relies on `data_out/nb_processed_cell_html.csv`\n",
    "- **Figure 3:** [Image Analysis](Image%20Analysis.ipynb)\n",
    "    - **3(a)** relies on `data_out/texts/alt.txt`\n",
    "    - **3(b)** relies on `data_out/model-results.csv`\n",
    "- **Figure 4:** [Popular Imports From Usage](Popular%20Imports%20From%20Usage.ipynb)\n",
    "    - **4** relies on `data_out/submission-fixed-nb_processed.csv`\n",
    "- **Figure 5:** [Notebook Navigability](Notebook%20Navigability.ipynb)\n",
    "    - **5(a)** relies on `data_out/nb_first_interactive_cell.csv`\n",
    "    - **5(b)** relies on `data_out/nb_first_interactive_cell.csv`\n",
    "- **Figure 6:** [Notebook Customizability](Notebook%20Customizability.ipynb)\n",
    "    - **6(a)** relies on `data_out/a11y-aggregate-scan.csv`\n",
    "- **Figure 7:** [Accessibility Scan](Accessibility%20Scan.ipynb)\n",
    "    - **7(a):** relies on `data_out/errors-different-counts-a11y-analyze-errors-summary.csv`\n",
    "    - **7(b):** relies on `data_out/errors-different-counts-a11y-analyze-errors-summary.csv`"
   ]
  }
 ],
 "metadata": {
  "kernelspec": {
   "display_name": "Python 3 (ipykernel)",
   "language": "python",
   "name": "python3"
  },
  "language_info": {
   "codemirror_mode": {
    "name": "ipython",
    "version": 3
   },
   "file_extension": ".py",
   "mimetype": "text/x-python",
   "name": "python",
   "nbconvert_exporter": "python",
   "pygments_lexer": "ipython3",
   "version": "3.10.6"
  }
 },
 "nbformat": 4,
 "nbformat_minor": 1
}
